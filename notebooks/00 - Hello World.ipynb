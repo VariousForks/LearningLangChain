{
 "cells": [
  {
   "cell_type": "markdown",
   "id": "32a2977a-e068-4e5b-89b1-56ac35ca2b01",
   "metadata": {},
   "source": [
    "# LangChain Hello World"
   ]
  },
  {
   "cell_type": "markdown",
   "id": "c2b85284-b7be-46aa-9044-dc029365e253",
   "metadata": {
    "tags": []
   },
   "source": [
    "## Install dependencies"
   ]
  },
  {
   "cell_type": "code",
   "execution_count": 1,
   "id": "6cb9dbac-a613-4733-8a14-938e2858d2b4",
   "metadata": {},
   "outputs": [
    {
     "name": "stdout",
     "output_type": "stream",
     "text": [
      "Requirement already satisfied: langchain[llms] in /opt/conda/lib/python3.9/site-packages (0.0.125)\n",
      "Requirement already satisfied: aiohttp<4.0.0,>=3.8.3 in /opt/conda/lib/python3.9/site-packages (from langchain[llms]) (3.8.4)\n",
      "Requirement already satisfied: pyowm<4.0.0,>=3.3.0 in /opt/conda/lib/python3.9/site-packages (from langchain[llms]) (3.3.0)\n",
      "Requirement already satisfied: numpy<2,>=1 in /opt/conda/lib/python3.9/site-packages (from langchain[llms]) (1.23.3)\n",
      "Requirement already satisfied: SQLAlchemy<2,>=1 in /opt/conda/lib/python3.9/site-packages (from langchain[llms]) (1.4.41)\n",
      "Requirement already satisfied: dataclasses-json<0.6.0,>=0.5.7 in /opt/conda/lib/python3.9/site-packages (from langchain[llms]) (0.5.7)\n",
      "Requirement already satisfied: PyYAML>=5.4.1 in /opt/conda/lib/python3.9/site-packages (from langchain[llms]) (6.0)\n",
      "Requirement already satisfied: requests<3,>=2 in /opt/conda/lib/python3.9/site-packages (from langchain[llms]) (2.28.1)\n",
      "Requirement already satisfied: pydantic<2,>=1 in /opt/conda/lib/python3.9/site-packages (from langchain[llms]) (1.10.7)\n",
      "Requirement already satisfied: tenacity<9.0.0,>=8.1.0 in /opt/conda/lib/python3.9/site-packages (from langchain[llms]) (8.2.2)\n",
      "Requirement already satisfied: nlpcloud<2,>=1 in /opt/conda/lib/python3.9/site-packages (from langchain[llms]) (1.0.40)\n",
      "Requirement already satisfied: cohere<4,>=3 in /opt/conda/lib/python3.9/site-packages (from langchain[llms]) (3.10.0)\n",
      "Requirement already satisfied: manifest-ml<0.0.2,>=0.0.1 in /opt/conda/lib/python3.9/site-packages (from langchain[llms]) (0.0.1)\n",
      "Requirement already satisfied: huggingface_hub<1,>=0 in /opt/conda/lib/python3.9/site-packages (from langchain[llms]) (0.13.3)\n",
      "Requirement already satisfied: openai<1,>=0 in /opt/conda/lib/python3.9/site-packages (from langchain[llms]) (0.27.2)\n",
      "Requirement already satisfied: torch<2,>=1 in /opt/conda/lib/python3.9/site-packages (from langchain[llms]) (1.13.1)\n",
      "Requirement already satisfied: anthropic<0.3.0,>=0.2.2 in /opt/conda/lib/python3.9/site-packages (from langchain[llms]) (0.2.4)\n",
      "Requirement already satisfied: transformers<5,>=4 in /opt/conda/lib/python3.9/site-packages (from langchain[llms]) (4.27.4)\n",
      "Requirement already satisfied: frozenlist>=1.1.1 in /opt/conda/lib/python3.9/site-packages (from aiohttp<4.0.0,>=3.8.3->langchain[llms]) (1.3.3)\n",
      "Requirement already satisfied: attrs>=17.3.0 in /opt/conda/lib/python3.9/site-packages (from aiohttp<4.0.0,>=3.8.3->langchain[llms]) (22.1.0)\n",
      "Requirement already satisfied: charset-normalizer<4.0,>=2.0 in /opt/conda/lib/python3.9/site-packages (from aiohttp<4.0.0,>=3.8.3->langchain[llms]) (2.1.1)\n",
      "Requirement already satisfied: async-timeout<5.0,>=4.0.0a3 in /opt/conda/lib/python3.9/site-packages (from aiohttp<4.0.0,>=3.8.3->langchain[llms]) (4.0.2)\n",
      "Requirement already satisfied: aiosignal>=1.1.2 in /opt/conda/lib/python3.9/site-packages (from aiohttp<4.0.0,>=3.8.3->langchain[llms]) (1.3.1)\n",
      "Requirement already satisfied: yarl<2.0,>=1.0 in /opt/conda/lib/python3.9/site-packages (from aiohttp<4.0.0,>=3.8.3->langchain[llms]) (1.8.2)\n",
      "Requirement already satisfied: multidict<7.0,>=4.5 in /opt/conda/lib/python3.9/site-packages (from aiohttp<4.0.0,>=3.8.3->langchain[llms]) (6.0.4)\n",
      "Requirement already satisfied: tokenizers in /opt/conda/lib/python3.9/site-packages (from anthropic<0.3.0,>=0.2.2->langchain[llms]) (0.13.2)\n",
      "Requirement already satisfied: httpx in /opt/conda/lib/python3.9/site-packages (from anthropic<0.3.0,>=0.2.2->langchain[llms]) (0.23.3)\n",
      "Requirement already satisfied: urllib3~=1.26 in /opt/conda/lib/python3.9/site-packages (from cohere<4,>=3->langchain[llms]) (1.26.11)\n",
      "Requirement already satisfied: marshmallow-enum<2.0.0,>=1.5.1 in /opt/conda/lib/python3.9/site-packages (from dataclasses-json<0.6.0,>=0.5.7->langchain[llms]) (1.5.1)\n",
      "Requirement already satisfied: marshmallow<4.0.0,>=3.3.0 in /opt/conda/lib/python3.9/site-packages (from dataclasses-json<0.6.0,>=0.5.7->langchain[llms]) (3.19.0)\n",
      "Requirement already satisfied: typing-inspect>=0.4.0 in /opt/conda/lib/python3.9/site-packages (from dataclasses-json<0.6.0,>=0.5.7->langchain[llms]) (0.8.0)\n",
      "Requirement already satisfied: typing-extensions>=3.7.4.3 in /opt/conda/lib/python3.9/site-packages (from huggingface_hub<1,>=0->langchain[llms]) (4.4.0)\n",
      "Requirement already satisfied: tqdm>=4.42.1 in /opt/conda/lib/python3.9/site-packages (from huggingface_hub<1,>=0->langchain[llms]) (4.64.1)\n",
      "Requirement already satisfied: packaging>=20.9 in /opt/conda/lib/python3.9/site-packages (from huggingface_hub<1,>=0->langchain[llms]) (21.3)\n",
      "Requirement already satisfied: filelock in /opt/conda/lib/python3.9/site-packages (from huggingface_hub<1,>=0->langchain[llms]) (3.10.7)\n",
      "Requirement already satisfied: sqlitedict>=2.0.0 in /opt/conda/lib/python3.9/site-packages (from manifest-ml<0.0.2,>=0.0.1->langchain[llms]) (2.1.0)\n",
      "Requirement already satisfied: dill>=0.3.5 in /opt/conda/lib/python3.9/site-packages (from manifest-ml<0.0.2,>=0.0.1->langchain[llms]) (0.3.5.1)\n",
      "Requirement already satisfied: redis>=4.3.1 in /opt/conda/lib/python3.9/site-packages (from manifest-ml<0.0.2,>=0.0.1->langchain[llms]) (4.5.4)\n",
      "Requirement already satisfied: geojson<3,>=2.3.0 in /opt/conda/lib/python3.9/site-packages (from pyowm<4.0.0,>=3.3.0->langchain[llms]) (2.5.0)\n",
      "Requirement already satisfied: PySocks<2,>=1.7.1 in /opt/conda/lib/python3.9/site-packages (from pyowm<4.0.0,>=3.3.0->langchain[llms]) (1.7.1)\n",
      "Requirement already satisfied: idna<4,>=2.5 in /opt/conda/lib/python3.9/site-packages (from requests<3,>=2->langchain[llms]) (3.4)\n",
      "Requirement already satisfied: certifi>=2017.4.17 in /opt/conda/lib/python3.9/site-packages (from requests<3,>=2->langchain[llms]) (2022.9.24)\n",
      "Requirement already satisfied: greenlet!=0.4.17 in /opt/conda/lib/python3.9/site-packages (from SQLAlchemy<2,>=1->langchain[llms]) (1.1.3)\n",
      "Requirement already satisfied: nvidia-cuda-nvrtc-cu11==11.7.99 in /opt/conda/lib/python3.9/site-packages (from torch<2,>=1->langchain[llms]) (11.7.99)\n",
      "Requirement already satisfied: nvidia-cuda-runtime-cu11==11.7.99 in /opt/conda/lib/python3.9/site-packages (from torch<2,>=1->langchain[llms]) (11.7.99)\n",
      "Requirement already satisfied: nvidia-cudnn-cu11==8.5.0.96 in /opt/conda/lib/python3.9/site-packages (from torch<2,>=1->langchain[llms]) (8.5.0.96)\n",
      "Requirement already satisfied: nvidia-cublas-cu11==11.10.3.66 in /opt/conda/lib/python3.9/site-packages (from torch<2,>=1->langchain[llms]) (11.10.3.66)\n",
      "Requirement already satisfied: setuptools in /opt/conda/lib/python3.9/site-packages (from nvidia-cublas-cu11==11.10.3.66->torch<2,>=1->langchain[llms]) (65.4.1)\n",
      "Requirement already satisfied: wheel in /opt/conda/lib/python3.9/site-packages (from nvidia-cublas-cu11==11.10.3.66->torch<2,>=1->langchain[llms]) (0.37.1)\n",
      "Requirement already satisfied: regex!=2019.12.17 in /opt/conda/lib/python3.9/site-packages (from transformers<5,>=4->langchain[llms]) (2023.3.23)\n",
      "Requirement already satisfied: pyparsing!=3.0.5,>=2.0.2 in /opt/conda/lib/python3.9/site-packages (from packaging>=20.9->huggingface_hub<1,>=0->langchain[llms]) (3.0.9)\n",
      "Requirement already satisfied: mypy-extensions>=0.3.0 in /opt/conda/lib/python3.9/site-packages (from typing-inspect>=0.4.0->dataclasses-json<0.6.0,>=0.5.7->langchain[llms]) (1.0.0)\n",
      "Requirement already satisfied: rfc3986[idna2008]<2,>=1.3 in /opt/conda/lib/python3.9/site-packages (from httpx->anthropic<0.3.0,>=0.2.2->langchain[llms]) (1.5.0)\n",
      "Requirement already satisfied: httpcore<0.17.0,>=0.15.0 in /opt/conda/lib/python3.9/site-packages (from httpx->anthropic<0.3.0,>=0.2.2->langchain[llms]) (0.16.3)\n",
      "Requirement already satisfied: sniffio in /opt/conda/lib/python3.9/site-packages (from httpx->anthropic<0.3.0,>=0.2.2->langchain[llms]) (1.3.0)\n",
      "Requirement already satisfied: anyio<5.0,>=3.0 in /opt/conda/lib/python3.9/site-packages (from httpcore<0.17.0,>=0.15.0->httpx->anthropic<0.3.0,>=0.2.2->langchain[llms]) (3.6.1)\n",
      "Requirement already satisfied: h11<0.15,>=0.13 in /opt/conda/lib/python3.9/site-packages (from httpcore<0.17.0,>=0.15.0->httpx->anthropic<0.3.0,>=0.2.2->langchain[llms]) (0.14.0)\n",
      "Requirement already satisfied: python-dotenv in /opt/conda/lib/python3.9/site-packages (1.0.0)\n"
     ]
    }
   ],
   "source": [
    "!pip install langchain[llms]\n",
    "!pip install python-dotenv"
   ]
  },
  {
   "cell_type": "markdown",
   "id": "8cdb2761-185c-43d3-9a6b-24d674e02d49",
   "metadata": {
    "tags": []
   },
   "source": [
    "## Load environment variables\n",
    "\n",
    "Change the path if necessary (read `README.md` first and follow the instructions to setup the `.env` file):"
   ]
  },
  {
   "cell_type": "code",
   "execution_count": 2,
   "id": "d4c83092-2d79-4e3b-90f3-620faa9af2aa",
   "metadata": {},
   "outputs": [],
   "source": [
    "import os\n",
    "os.chdir(\"/home/jovyan/work\")"
   ]
  },
  {
   "cell_type": "code",
   "execution_count": 3,
   "id": "d6f0ec1a-1bc3-4fd2-8525-e58d8e30d459",
   "metadata": {},
   "outputs": [],
   "source": [
    "%load_ext dotenv\n",
    "%dotenv"
   ]
  },
  {
   "cell_type": "markdown",
   "id": "b1c9e9e1-24ce-4ab4-8c80-b261e92f2018",
   "metadata": {},
   "source": [
    "## Setup chain"
   ]
  },
  {
   "cell_type": "code",
   "execution_count": 4,
   "id": "ed8abfdc-37cf-4ae2-9cf8-ea5adfb1c02b",
   "metadata": {},
   "outputs": [],
   "source": [
    "from langchain.llms import OpenAI"
   ]
  },
  {
   "cell_type": "code",
   "execution_count": 5,
   "id": "01729754-dc6b-4dda-b9dd-a1e06c3c0406",
   "metadata": {},
   "outputs": [],
   "source": [
    "llm = OpenAI(temperature=0)"
   ]
  },
  {
   "cell_type": "code",
   "execution_count": 6,
   "id": "4d8c350a-a341-4515-a464-ff0fea15cae7",
   "metadata": {},
   "outputs": [],
   "source": [
    "from langchain.prompts import PromptTemplate\n",
    "\n",
    "prompt = PromptTemplate(\n",
    "    input_variables=[\"language\"],\n",
    "    template=\"Create a 'Hello World' program in the language '{language}'\",\n",
    ")"
   ]
  },
  {
   "cell_type": "code",
   "execution_count": 7,
   "id": "891c2b5f-6466-41ff-8e35-c39361630621",
   "metadata": {},
   "outputs": [],
   "source": [
    "from langchain.chains import LLMChain\n",
    "chain = LLMChain(llm=llm, prompt=prompt)"
   ]
  },
  {
   "cell_type": "markdown",
   "id": "596ad4a0-5a83-4c64-9125-046880962ea4",
   "metadata": {},
   "source": [
    "## Tests"
   ]
  },
  {
   "cell_type": "code",
   "execution_count": 8,
   "id": "4623d172-6aaf-4363-9d31-e70855b44146",
   "metadata": {},
   "outputs": [
    {
     "name": "stdout",
     "output_type": "stream",
     "text": [
      "\n",
      "\n",
      "print(\"Hello World!\")\n"
     ]
    }
   ],
   "source": [
    "print(chain.run(\"Python\"))"
   ]
  },
  {
   "cell_type": "code",
   "execution_count": 9,
   "id": "d6067361-24cb-4e16-977c-ff896592e175",
   "metadata": {},
   "outputs": [
    {
     "name": "stdout",
     "output_type": "stream",
     "text": [
      "\n",
      "\n",
      "public class HelloWorld {\n",
      "    public static void main(String[] args) {\n",
      "        System.out.println(\"Hello World!\");\n",
      "    }\n",
      "}\n"
     ]
    }
   ],
   "source": [
    "print(chain.run(\"Java\"))"
   ]
  },
  {
   "cell_type": "code",
   "execution_count": 10,
   "id": "8a513de1-14f2-44cb-a08c-403a235b1000",
   "metadata": {},
   "outputs": [
    {
     "name": "stdout",
     "output_type": "stream",
     "text": [
      "\n",
      "\n",
      "IO.puts \"Hello World!\"\n"
     ]
    }
   ],
   "source": [
    "print(chain.run(\"Elixir\"))"
   ]
  },
  {
   "cell_type": "code",
   "execution_count": 11,
   "id": "be85a6f2-38a1-4d00-af0a-51826e118c2c",
   "metadata": {},
   "outputs": [
    {
     "name": "stdout",
     "output_type": "stream",
     "text": [
      "\n",
      "\n",
      "#include <iostream>\n",
      "\n",
      "int main()\n",
      "{\n",
      "    std::cout << \"Hello World!\" << std::endl;\n",
      "    return 0;\n",
      "}\n"
     ]
    }
   ],
   "source": [
    "print(chain.run(\"C++\"))"
   ]
  },
  {
   "cell_type": "code",
   "execution_count": null,
   "id": "aa9bf099-6436-40a4-8a5e-3448c12cff5c",
   "metadata": {},
   "outputs": [],
   "source": []
  }
 ],
 "metadata": {
  "kernelspec": {
   "display_name": "Python 3 (ipykernel)",
   "language": "python",
   "name": "python3"
  },
  "language_info": {
   "codemirror_mode": {
    "name": "ipython",
    "version": 3
   },
   "file_extension": ".py",
   "mimetype": "text/x-python",
   "name": "python",
   "nbconvert_exporter": "python",
   "pygments_lexer": "ipython3",
   "version": "3.9.13"
  }
 },
 "nbformat": 4,
 "nbformat_minor": 5
}
