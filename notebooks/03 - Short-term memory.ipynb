{
 "cells": [
  {
   "cell_type": "markdown",
   "id": "b385fdc6-cecc-4564-ab12-85f494a00781",
   "metadata": {},
   "source": [
    "# LangChain - Short-term Memory"
   ]
  },
  {
   "cell_type": "markdown",
   "id": "e1335d52-d456-4ae3-9058-c0c135b1acee",
   "metadata": {
    "tags": []
   },
   "source": [
    "## Install dependencies"
   ]
  },
  {
   "cell_type": "code",
   "execution_count": 1,
   "id": "24b0f6cb-2820-4f7e-8081-4de2809a1807",
   "metadata": {},
   "outputs": [
    {
     "name": "stdout",
     "output_type": "stream",
     "text": [
      "Requirement already satisfied: langchain[llms] in /opt/conda/lib/python3.9/site-packages (0.0.125)\n",
      "Requirement already satisfied: aiohttp<4.0.0,>=3.8.3 in /opt/conda/lib/python3.9/site-packages (from langchain[llms]) (3.8.4)\n",
      "Requirement already satisfied: numpy<2,>=1 in /opt/conda/lib/python3.9/site-packages (from langchain[llms]) (1.23.3)\n",
      "Requirement already satisfied: tenacity<9.0.0,>=8.1.0 in /opt/conda/lib/python3.9/site-packages (from langchain[llms]) (8.2.2)\n",
      "Requirement already satisfied: pyowm<4.0.0,>=3.3.0 in /opt/conda/lib/python3.9/site-packages (from langchain[llms]) (3.3.0)\n",
      "Requirement already satisfied: dataclasses-json<0.6.0,>=0.5.7 in /opt/conda/lib/python3.9/site-packages (from langchain[llms]) (0.5.7)\n",
      "Requirement already satisfied: PyYAML>=5.4.1 in /opt/conda/lib/python3.9/site-packages (from langchain[llms]) (6.0)\n",
      "Requirement already satisfied: requests<3,>=2 in /opt/conda/lib/python3.9/site-packages (from langchain[llms]) (2.28.1)\n",
      "Requirement already satisfied: pydantic<2,>=1 in /opt/conda/lib/python3.9/site-packages (from langchain[llms]) (1.10.7)\n",
      "Requirement already satisfied: SQLAlchemy<2,>=1 in /opt/conda/lib/python3.9/site-packages (from langchain[llms]) (1.4.41)\n",
      "Requirement already satisfied: cohere<4,>=3 in /opt/conda/lib/python3.9/site-packages (from langchain[llms]) (3.10.0)\n",
      "Requirement already satisfied: huggingface_hub<1,>=0 in /opt/conda/lib/python3.9/site-packages (from langchain[llms]) (0.13.3)\n",
      "Requirement already satisfied: torch<2,>=1 in /opt/conda/lib/python3.9/site-packages (from langchain[llms]) (1.13.1)\n",
      "Requirement already satisfied: anthropic<0.3.0,>=0.2.2 in /opt/conda/lib/python3.9/site-packages (from langchain[llms]) (0.2.4)\n",
      "Requirement already satisfied: nlpcloud<2,>=1 in /opt/conda/lib/python3.9/site-packages (from langchain[llms]) (1.0.40)\n",
      "Requirement already satisfied: manifest-ml<0.0.2,>=0.0.1 in /opt/conda/lib/python3.9/site-packages (from langchain[llms]) (0.0.1)\n",
      "Requirement already satisfied: transformers<5,>=4 in /opt/conda/lib/python3.9/site-packages (from langchain[llms]) (4.27.4)\n",
      "Requirement already satisfied: openai<1,>=0 in /opt/conda/lib/python3.9/site-packages (from langchain[llms]) (0.27.2)\n",
      "Requirement already satisfied: charset-normalizer<4.0,>=2.0 in /opt/conda/lib/python3.9/site-packages (from aiohttp<4.0.0,>=3.8.3->langchain[llms]) (2.1.1)\n",
      "Requirement already satisfied: multidict<7.0,>=4.5 in /opt/conda/lib/python3.9/site-packages (from aiohttp<4.0.0,>=3.8.3->langchain[llms]) (6.0.4)\n",
      "Requirement already satisfied: yarl<2.0,>=1.0 in /opt/conda/lib/python3.9/site-packages (from aiohttp<4.0.0,>=3.8.3->langchain[llms]) (1.8.2)\n",
      "Requirement already satisfied: attrs>=17.3.0 in /opt/conda/lib/python3.9/site-packages (from aiohttp<4.0.0,>=3.8.3->langchain[llms]) (22.1.0)\n",
      "Requirement already satisfied: frozenlist>=1.1.1 in /opt/conda/lib/python3.9/site-packages (from aiohttp<4.0.0,>=3.8.3->langchain[llms]) (1.3.3)\n",
      "Requirement already satisfied: async-timeout<5.0,>=4.0.0a3 in /opt/conda/lib/python3.9/site-packages (from aiohttp<4.0.0,>=3.8.3->langchain[llms]) (4.0.2)\n",
      "Requirement already satisfied: aiosignal>=1.1.2 in /opt/conda/lib/python3.9/site-packages (from aiohttp<4.0.0,>=3.8.3->langchain[llms]) (1.3.1)\n",
      "Requirement already satisfied: httpx in /opt/conda/lib/python3.9/site-packages (from anthropic<0.3.0,>=0.2.2->langchain[llms]) (0.23.3)\n",
      "Requirement already satisfied: tokenizers in /opt/conda/lib/python3.9/site-packages (from anthropic<0.3.0,>=0.2.2->langchain[llms]) (0.13.2)\n",
      "Requirement already satisfied: urllib3~=1.26 in /opt/conda/lib/python3.9/site-packages (from cohere<4,>=3->langchain[llms]) (1.26.11)\n",
      "Requirement already satisfied: marshmallow-enum<2.0.0,>=1.5.1 in /opt/conda/lib/python3.9/site-packages (from dataclasses-json<0.6.0,>=0.5.7->langchain[llms]) (1.5.1)\n",
      "Requirement already satisfied: typing-inspect>=0.4.0 in /opt/conda/lib/python3.9/site-packages (from dataclasses-json<0.6.0,>=0.5.7->langchain[llms]) (0.8.0)\n",
      "Requirement already satisfied: marshmallow<4.0.0,>=3.3.0 in /opt/conda/lib/python3.9/site-packages (from dataclasses-json<0.6.0,>=0.5.7->langchain[llms]) (3.19.0)\n",
      "Requirement already satisfied: tqdm>=4.42.1 in /opt/conda/lib/python3.9/site-packages (from huggingface_hub<1,>=0->langchain[llms]) (4.64.1)\n",
      "Requirement already satisfied: packaging>=20.9 in /opt/conda/lib/python3.9/site-packages (from huggingface_hub<1,>=0->langchain[llms]) (21.3)\n",
      "Requirement already satisfied: typing-extensions>=3.7.4.3 in /opt/conda/lib/python3.9/site-packages (from huggingface_hub<1,>=0->langchain[llms]) (4.4.0)\n",
      "Requirement already satisfied: filelock in /opt/conda/lib/python3.9/site-packages (from huggingface_hub<1,>=0->langchain[llms]) (3.10.7)\n",
      "Requirement already satisfied: dill>=0.3.5 in /opt/conda/lib/python3.9/site-packages (from manifest-ml<0.0.2,>=0.0.1->langchain[llms]) (0.3.5.1)\n",
      "Requirement already satisfied: redis>=4.3.1 in /opt/conda/lib/python3.9/site-packages (from manifest-ml<0.0.2,>=0.0.1->langchain[llms]) (4.5.4)\n",
      "Requirement already satisfied: sqlitedict>=2.0.0 in /opt/conda/lib/python3.9/site-packages (from manifest-ml<0.0.2,>=0.0.1->langchain[llms]) (2.1.0)\n",
      "Requirement already satisfied: PySocks<2,>=1.7.1 in /opt/conda/lib/python3.9/site-packages (from pyowm<4.0.0,>=3.3.0->langchain[llms]) (1.7.1)\n",
      "Requirement already satisfied: geojson<3,>=2.3.0 in /opt/conda/lib/python3.9/site-packages (from pyowm<4.0.0,>=3.3.0->langchain[llms]) (2.5.0)\n",
      "Requirement already satisfied: idna<4,>=2.5 in /opt/conda/lib/python3.9/site-packages (from requests<3,>=2->langchain[llms]) (3.4)\n",
      "Requirement already satisfied: certifi>=2017.4.17 in /opt/conda/lib/python3.9/site-packages (from requests<3,>=2->langchain[llms]) (2022.9.24)\n",
      "Requirement already satisfied: greenlet!=0.4.17 in /opt/conda/lib/python3.9/site-packages (from SQLAlchemy<2,>=1->langchain[llms]) (1.1.3)\n",
      "Requirement already satisfied: nvidia-cublas-cu11==11.10.3.66 in /opt/conda/lib/python3.9/site-packages (from torch<2,>=1->langchain[llms]) (11.10.3.66)\n",
      "Requirement already satisfied: nvidia-cuda-nvrtc-cu11==11.7.99 in /opt/conda/lib/python3.9/site-packages (from torch<2,>=1->langchain[llms]) (11.7.99)\n",
      "Requirement already satisfied: nvidia-cudnn-cu11==8.5.0.96 in /opt/conda/lib/python3.9/site-packages (from torch<2,>=1->langchain[llms]) (8.5.0.96)\n",
      "Requirement already satisfied: nvidia-cuda-runtime-cu11==11.7.99 in /opt/conda/lib/python3.9/site-packages (from torch<2,>=1->langchain[llms]) (11.7.99)\n",
      "Requirement already satisfied: setuptools in /opt/conda/lib/python3.9/site-packages (from nvidia-cublas-cu11==11.10.3.66->torch<2,>=1->langchain[llms]) (65.4.1)\n",
      "Requirement already satisfied: wheel in /opt/conda/lib/python3.9/site-packages (from nvidia-cublas-cu11==11.10.3.66->torch<2,>=1->langchain[llms]) (0.37.1)\n",
      "Requirement already satisfied: regex!=2019.12.17 in /opt/conda/lib/python3.9/site-packages (from transformers<5,>=4->langchain[llms]) (2023.3.23)\n",
      "Requirement already satisfied: pyparsing!=3.0.5,>=2.0.2 in /opt/conda/lib/python3.9/site-packages (from packaging>=20.9->huggingface_hub<1,>=0->langchain[llms]) (3.0.9)\n",
      "Requirement already satisfied: mypy-extensions>=0.3.0 in /opt/conda/lib/python3.9/site-packages (from typing-inspect>=0.4.0->dataclasses-json<0.6.0,>=0.5.7->langchain[llms]) (1.0.0)\n",
      "Requirement already satisfied: httpcore<0.17.0,>=0.15.0 in /opt/conda/lib/python3.9/site-packages (from httpx->anthropic<0.3.0,>=0.2.2->langchain[llms]) (0.16.3)\n",
      "Requirement already satisfied: rfc3986[idna2008]<2,>=1.3 in /opt/conda/lib/python3.9/site-packages (from httpx->anthropic<0.3.0,>=0.2.2->langchain[llms]) (1.5.0)\n",
      "Requirement already satisfied: sniffio in /opt/conda/lib/python3.9/site-packages (from httpx->anthropic<0.3.0,>=0.2.2->langchain[llms]) (1.3.0)\n",
      "Requirement already satisfied: h11<0.15,>=0.13 in /opt/conda/lib/python3.9/site-packages (from httpcore<0.17.0,>=0.15.0->httpx->anthropic<0.3.0,>=0.2.2->langchain[llms]) (0.14.0)\n",
      "Requirement already satisfied: anyio<5.0,>=3.0 in /opt/conda/lib/python3.9/site-packages (from httpcore<0.17.0,>=0.15.0->httpx->anthropic<0.3.0,>=0.2.2->langchain[llms]) (3.6.1)\n",
      "Requirement already satisfied: python-dotenv in /opt/conda/lib/python3.9/site-packages (1.0.0)\n"
     ]
    }
   ],
   "source": [
    "!pip install langchain[llms]\n",
    "!pip install python-dotenv"
   ]
  },
  {
   "cell_type": "markdown",
   "id": "8babb007-8d92-4eb8-9964-dc0d23e7f236",
   "metadata": {
    "tags": []
   },
   "source": [
    "## Load environment variables\n",
    "\n",
    "Change the path if necessary (read `README.md` first and follow the instructions to setup the `.env` file):"
   ]
  },
  {
   "cell_type": "code",
   "execution_count": 2,
   "id": "68173a51-4762-42f3-9049-277fe79ab62a",
   "metadata": {},
   "outputs": [],
   "source": [
    "import os\n",
    "os.chdir(\"/home/jovyan/work\")"
   ]
  },
  {
   "cell_type": "code",
   "execution_count": 3,
   "id": "9ba55308-dc1a-4cf7-ad0f-e27330c951ed",
   "metadata": {},
   "outputs": [],
   "source": [
    "%load_ext dotenv\n",
    "%dotenv"
   ]
  },
  {
   "cell_type": "markdown",
   "id": "b803eac1-cc83-4703-8c06-15fcc32b9aa4",
   "metadata": {},
   "source": [
    "## Setup agent"
   ]
  },
  {
   "cell_type": "code",
   "execution_count": 4,
   "id": "f4d5326f-b7a1-41da-b837-0556bfa6daf5",
   "metadata": {},
   "outputs": [],
   "source": [
    "from langchain import OpenAI, ConversationChain"
   ]
  },
  {
   "cell_type": "code",
   "execution_count": 5,
   "id": "89d2b3cf-6f73-4172-a8f3-351f3b0bcada",
   "metadata": {},
   "outputs": [],
   "source": [
    "llm = OpenAI(temperature=0)"
   ]
  },
  {
   "cell_type": "code",
   "execution_count": 6,
   "id": "9938b3c1-032b-48d4-921c-8d5660b1577e",
   "metadata": {},
   "outputs": [],
   "source": [
    "conversation = ConversationChain(llm=llm, verbose=True)"
   ]
  },
  {
   "cell_type": "markdown",
   "id": "f24a0d80-2ea7-45e7-851f-bb27119619b0",
   "metadata": {},
   "source": [
    "## Tests"
   ]
  },
  {
   "cell_type": "code",
   "execution_count": 7,
   "id": "3b834b2a-1bd2-4813-8c61-64c82cd45c3a",
   "metadata": {},
   "outputs": [
    {
     "name": "stdout",
     "output_type": "stream",
     "text": [
      "\n",
      "\n",
      "\u001b[1m> Entering new ConversationChain chain...\u001b[0m\n",
      "Prompt after formatting:\n",
      "\u001b[32;1m\u001b[1;3mThe following is a friendly conversation between a human and an AI. The AI is talkative and provides lots of specific details from its context. If the AI does not know the answer to a question, it truthfully says it does not know.\n",
      "\n",
      "Current conversation:\n",
      "\n",
      "Human: Hi! I'm going to say some letters, and I want you to just confirm you noted it, ok?\n",
      "AI:\u001b[0m\n",
      "\n",
      "\u001b[1m> Finished chain.\u001b[0m\n",
      " Sure, I'm listening. What letters do you want to say?\n"
     ]
    }
   ],
   "source": [
    "print(conversation.predict(input=\"Hi! I'm going to say some letters, and I want you to just confirm you noted it, ok?\"))"
   ]
  },
  {
   "cell_type": "code",
   "execution_count": 8,
   "id": "1a65ee11-14fe-4eaf-8ee3-402b19648086",
   "metadata": {},
   "outputs": [
    {
     "name": "stdout",
     "output_type": "stream",
     "text": [
      "\n",
      "\n",
      "\u001b[1m> Entering new ConversationChain chain...\u001b[0m\n",
      "Prompt after formatting:\n",
      "\u001b[32;1m\u001b[1;3mThe following is a friendly conversation between a human and an AI. The AI is talkative and provides lots of specific details from its context. If the AI does not know the answer to a question, it truthfully says it does not know.\n",
      "\n",
      "Current conversation:\n",
      "Human: Hi! I'm going to say some letters, and I want you to just confirm you noted it, ok?\n",
      "AI:  Sure, I'm listening. What letters do you want to say?\n",
      "Human: Ok, let's see... A and P.\n",
      "AI:\u001b[0m\n",
      "\n",
      "\u001b[1m> Finished chain.\u001b[0m\n",
      " Got it, A and P. Anything else?\n"
     ]
    }
   ],
   "source": [
    "print(conversation.predict(input=\"Ok, let's see... A and P.\"))"
   ]
  },
  {
   "cell_type": "code",
   "execution_count": 9,
   "id": "761af789-7c12-412d-bbae-c5686e67d58c",
   "metadata": {},
   "outputs": [
    {
     "name": "stdout",
     "output_type": "stream",
     "text": [
      "\n",
      "\n",
      "\u001b[1m> Entering new ConversationChain chain...\u001b[0m\n",
      "Prompt after formatting:\n",
      "\u001b[32;1m\u001b[1;3mThe following is a friendly conversation between a human and an AI. The AI is talkative and provides lots of specific details from its context. If the AI does not know the answer to a question, it truthfully says it does not know.\n",
      "\n",
      "Current conversation:\n",
      "Human: Hi! I'm going to say some letters, and I want you to just confirm you noted it, ok?\n",
      "AI:  Sure, I'm listening. What letters do you want to say?\n",
      "Human: Ok, let's see... A and P.\n",
      "AI:  Got it, A and P. Anything else?\n",
      "Human: Hmm,... L, E,... And that's all, you got it?\n",
      "AI:\u001b[0m\n",
      "\n",
      "\u001b[1m> Finished chain.\u001b[0m\n",
      " Yes, I got it. A, P, L, and E. Is there anything else I can help you with?\n"
     ]
    }
   ],
   "source": [
    "print(conversation.predict(input=\"Hmm,... L, E,... And that's all, you got it?\"))"
   ]
  },
  {
   "cell_type": "code",
   "execution_count": 10,
   "id": "10945961-333c-4116-99c8-75a393d27efc",
   "metadata": {},
   "outputs": [
    {
     "name": "stdout",
     "output_type": "stream",
     "text": [
      "\n",
      "\n",
      "\u001b[1m> Entering new ConversationChain chain...\u001b[0m\n",
      "Prompt after formatting:\n",
      "\u001b[32;1m\u001b[1;3mThe following is a friendly conversation between a human and an AI. The AI is talkative and provides lots of specific details from its context. If the AI does not know the answer to a question, it truthfully says it does not know.\n",
      "\n",
      "Current conversation:\n",
      "Human: Hi! I'm going to say some letters, and I want you to just confirm you noted it, ok?\n",
      "AI:  Sure, I'm listening. What letters do you want to say?\n",
      "Human: Ok, let's see... A and P.\n",
      "AI:  Got it, A and P. Anything else?\n",
      "Human: Hmm,... L, E,... And that's all, you got it?\n",
      "AI:  Yes, I got it. A, P, L, and E. Is there anything else I can help you with?\n",
      "Human: Sure, give me the longer word you can using all those letters (you can repeat letters, but you need to use all letters in the word).\n",
      "AI:\u001b[0m\n",
      "\n",
      "\u001b[1m> Finished chain.\u001b[0m\n",
      " The longest word I can make with those letters is \"appelle\". Is there anything else I can help you with?\n"
     ]
    }
   ],
   "source": [
    "print(conversation.predict(input=\"Sure, give me the longer word you can using all those letters (you can repeat letters, but you need to use all letters in the word).\"))"
   ]
  },
  {
   "cell_type": "code",
   "execution_count": null,
   "id": "0c32b0af-57ed-417d-8b65-18c5b14552fa",
   "metadata": {},
   "outputs": [],
   "source": []
  }
 ],
 "metadata": {
  "kernelspec": {
   "display_name": "Python 3 (ipykernel)",
   "language": "python",
   "name": "python3"
  },
  "language_info": {
   "codemirror_mode": {
    "name": "ipython",
    "version": 3
   },
   "file_extension": ".py",
   "mimetype": "text/x-python",
   "name": "python",
   "nbconvert_exporter": "python",
   "pygments_lexer": "ipython3",
   "version": "3.9.13"
  }
 },
 "nbformat": 4,
 "nbformat_minor": 5
}
